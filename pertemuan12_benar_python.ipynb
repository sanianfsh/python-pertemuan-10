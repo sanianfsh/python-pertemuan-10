{
  "nbformat": 4,
  "nbformat_minor": 0,
  "metadata": {
    "colab": {
      "name": "Untitled3.ipynb",
      "provenance": [],
      "authorship_tag": "ABX9TyOkvl9PNkDQu2TVdwzumVlw",
      "include_colab_link": true
    },
    "kernelspec": {
      "name": "python3",
      "display_name": "Python 3"
    }
  },
  "cells": [
    {
      "cell_type": "markdown",
      "metadata": {
        "id": "view-in-github",
        "colab_type": "text"
      },
      "source": [
        "<a href=\"https://colab.research.google.com/github/sanianfsh/python-pertemuan-10/blob/main/pertemuan12_benar_python.ipynb\" target=\"_parent\"><img src=\"https://colab.research.google.com/assets/colab-badge.svg\" alt=\"Open In Colab\"/></a>"
      ]
    },
    {
      "cell_type": "code",
      "metadata": {
        "id": "S5ZormSgIRtx"
      },
      "source": [
        "import numpy as np"
      ],
      "execution_count": 1,
      "outputs": []
    },
    {
      "cell_type": "code",
      "metadata": {
        "colab": {
          "base_uri": "https://localhost:8080/"
        },
        "id": "M5fPYyP_KDqA",
        "outputId": "8291f3eb-fddd-4f32-93ba-d0a72ff3a61f"
      },
      "source": [
        "print(\"Sania Uswah Nafisah\\n1101184257\")\r\n",
        "\r\n",
        "def Pathloss(d,f,cm,ht,hr):\r\n",
        "  \r\n",
        "  #d = jarak link\r\n",
        "  #f = frek \r\n",
        "  #ht = tinggi antena tx\r\n",
        "  #hr = tinggi antena rx\r\n",
        "  #cm=1(urban), cm=2(suburban), cm=3(open)\r\n",
        "\r\n",
        "  if cm == 1:\r\n",
        "    c = 0\r\n",
        "  elif cm == 2:\r\n",
        "    c = (-2*((np.log10(f/28))**2)) - 5.4\r\n",
        "  elif cm == 3:\r\n",
        "    c = (-4.78*((np.log10(f))**2)) + (18.33*np.log10(f)) - 40.94\r\n",
        "\r\n",
        "  if  f >= 400000000 and f <= 1500000000:\r\n",
        "    c1 = 69.55\r\n",
        "    c2 = 26.16 \r\n",
        "  elif f > 1500000000 and f <= 2000000000:\r\n",
        "    c1 = 46.3\r\n",
        "    c2 = 33.9\r\n",
        " \r\n",
        "  a = (((1.1*np.log10(f))-0.7)*hr) - ((1.56*np.log10(f))-0.8)\r\n",
        "\r\n",
        "  Lp = c1 + (c2*np.log10(f)) - (13.83*np.log10(ht)) - a + ((44.9-(6.55*np.log10(ht)))*np.log10(d)) + c\r\n",
        "\r\n",
        "  return Lp\r\n",
        "\r\n",
        "\r\n",
        "\r\n",
        "pathloss=Pathloss(60,1700000000,1,90,30)\r\n",
        "print(\"Cost 231 Pathloss Model =\",pathloss,\"dB\")"
      ],
      "execution_count": 8,
      "outputs": [
        {
          "output_type": "stream",
          "text": [
            "Sania Uswah Nafisah\n",
            "1101184257\n",
            "Cost 231 Pathloss Model = 119.25787269405402 dB\n"
          ],
          "name": "stdout"
        }
      ]
    }
  ]
}