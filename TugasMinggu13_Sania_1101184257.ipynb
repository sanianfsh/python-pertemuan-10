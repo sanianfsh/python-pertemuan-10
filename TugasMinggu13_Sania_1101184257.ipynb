{
  "nbformat": 4,
  "nbformat_minor": 0,
  "metadata": {
    "colab": {
      "name": "Untitled4.ipynb",
      "provenance": [],
      "mount_file_id": "1qpJAVkp65C9UpvJkrxjiSuh8VvLLU6sr",
      "authorship_tag": "ABX9TyPAbb8hg/B5X8IY9hHTNu9e",
      "include_colab_link": true
    },
    "kernelspec": {
      "name": "python3",
      "display_name": "Python 3"
    }
  },
  "cells": [
    {
      "cell_type": "markdown",
      "metadata": {
        "id": "view-in-github",
        "colab_type": "text"
      },
      "source": [
        "<a href=\"https://colab.research.google.com/github/sanianfsh/python-pertemuan-10/blob/main/TugasMinggu13_Sania_1101184257.ipynb\" target=\"_parent\"><img src=\"https://colab.research.google.com/assets/colab-badge.svg\" alt=\"Open In Colab\"/></a>"
      ]
    },
    {
      "cell_type": "code",
      "metadata": {
        "id": "rH_BsyaNyo3J"
      },
      "source": [
        "import numpy as np\r\n",
        "import matplotlib.pyplot as plt"
      ],
      "execution_count": 3,
      "outputs": []
    },
    {
      "cell_type": "code",
      "metadata": {
        "id": "wlmMHCEA1QXL"
      },
      "source": [
        "#frek = frekuensi (MHz)\r\n",
        "  #tipe = urban, suburban, open\r\n",
        "  #ht = tinggi tower (meter)\r\n",
        "  #hr = tinggi user (meter)\r\n",
        "  #d = jarak (meter)\r\n",
        "def cos(frek,tipe,ht,hr,d):\r\n",
        "    if frek in range(150,1501):\r\n",
        "        Ca=69.55\r\n",
        "        Cb=26.16\r\n",
        "    elif frek in range(1501,2001):\r\n",
        "        Ca=46.3\r\n",
        "        Cb=33.9\r\n",
        "    \r\n",
        "    if tipe=='urban' :\r\n",
        "        Cm=0\r\n",
        "    elif tipe=='suburban' :\r\n",
        "        Cm= -2*((np.log10((frek/28)**2))-5.4)\r\n",
        "    elif tipe=='open' :\r\n",
        "        Cm= -4.78*(np.log10(frek))+18.33*(np.log10(frek))-40.94\r\n",
        "    else :\r\n",
        "        Cm='tipe salah'\r\n",
        "    \r\n",
        "    ahr = (1.1*np.log10(frek)-0.7)*hr-(1.56*np.log10(frek)-1.8)\r\n",
        "    Lp = Ca+(Cb*np.log10(frek))-(13.83*np.log(ht))-ahr+((44.9-6.55*np.log10(ht))*np.log10(d))-Cm\r\n",
        "    \r\n",
        "    return Lp\r\n"
      ],
      "execution_count": 10,
      "outputs": []
    },
    {
      "cell_type": "code",
      "metadata": {
        "id": "lhtEYE4w3bSj"
      },
      "source": [
        "f=1800 #MHz\r\n",
        "loc='urban'\r\n",
        "tower=80 #m\r\n",
        "user=1.5 #m\r\n",
        "dmin=200 #m\r\n",
        "dmax=700 #m\r\n",
        "N=200 #titik\r\n",
        "d=np.random.randint(dmin,dmax,N)"
      ],
      "execution_count": 11,
      "outputs": []
    },
    {
      "cell_type": "code",
      "metadata": {
        "id": "0L-4kVpT3gF-"
      },
      "source": [
        "f=1800 #MHz\r\n",
        "loc1='suburban'\r\n",
        "tower=80 #m\r\n",
        "user=1.5 #m\r\n",
        "dmin=200 #m\r\n",
        "dmax=700 #m\r\n",
        "N=200 #titik\r\n",
        "l=np.random.randint(dmin,dmax,N)\r\n",
        "\r\n",
        "f=1800 #MHz\r\n",
        "loc2='open'\r\n",
        "tower=80 #m\r\n",
        "user=1.5 #m\r\n",
        "dmin=200 #m\r\n",
        "dmax=700 #m\r\n",
        "N=200 #titik\r\n",
        "y=np.random.randint(dmin,dmax,N)"
      ],
      "execution_count": 12,
      "outputs": []
    },
    {
      "cell_type": "code",
      "metadata": {
        "id": "__h3jtM13lx8"
      },
      "source": [
        "LpUrban=cos(f,loc,tower,user,d)\r\n",
        "LpSubUrban=cos(f,loc1,tower,user,l)\r\n",
        "LpOpen=cos(f,loc2,tower,user,y)"
      ],
      "execution_count": 13,
      "outputs": []
    },
    {
      "cell_type": "code",
      "metadata": {
        "id": "YxI9ZwFx3pUz"
      },
      "source": [
        "d_sort=d[np.argsort(d)]\r\n",
        "Urban_sort=LpUrban[np.argsort(d)]"
      ],
      "execution_count": 14,
      "outputs": []
    },
    {
      "cell_type": "code",
      "metadata": {
        "id": "hEd1C7DO3tAv"
      },
      "source": [
        "l_sort=l[np.argsort(l)]\r\n",
        "Suburban_sort=LpSubUrban[np.argsort(l)]"
      ],
      "execution_count": 15,
      "outputs": []
    },
    {
      "cell_type": "code",
      "metadata": {
        "id": "_QKbwFWr4SMU"
      },
      "source": [
        "y_sort=y[np.argsort(y)]\r\n",
        "Open_sort=LpOpen[np.argsort(y)]"
      ],
      "execution_count": 16,
      "outputs": []
    },
    {
      "cell_type": "code",
      "metadata": {
        "colab": {
          "base_uri": "https://localhost:8080/",
          "height": 279
        },
        "id": "4GITGgUA4VUl",
        "outputId": "92c4a973-25da-4937-c884-513d8d7cc0a5"
      },
      "source": [
        "plt.figure()\r\n",
        "plt.plot(d_sort,Urban_sort,'r', label='Urban' )\r\n",
        "plt.plot(l_sort,Suburban_sort,'c', label='Suburban')\r\n",
        "plt.plot(y_sort,Open_sort, 'b', label='Open')\r\n",
        "plt.legend()\r\n",
        "plt.xlabel('Jarak (m)')\r\n",
        "plt.ylabel('Path Loss (dB)')\r\n",
        "plt.show()"
      ],
      "execution_count": 21,
      "outputs": [
        {
          "output_type": "display_data",
          "data": {
            "image/png": "[encoded data removed]",
            "text/plain": [
              "<Figure size 432x288 with 1 Axes>"
            ]
          },
          "metadata": {
            "tags": [],
            "needs_background": "light"
          }
        }
      ]
    },
    {
      "cell_type": "code",
      "metadata": {
        "id": "YaplgQPW6B5E"
      },
      "source": [
        "f1=700 #Mhz\r\n",
        "f2=900 #Mhz\r\n",
        "f3=1800 #MHz\r\n",
        "loc3='urban'\r\n",
        "tower=80 #m\r\n",
        "user=1.5 #m\r\n",
        "dmin=200 #m\r\n",
        "dmax=700 #m\r\n",
        "N=200 #titik\r\n",
        "q=np.random.randint(dmin,dmax,N)\r\n",
        "w=np.random.randint(dmin,dmax,N)\r\n",
        "e=np.random.randint(dmin,dmax,N)"
      ],
      "execution_count": 22,
      "outputs": []
    },
    {
      "cell_type": "code",
      "metadata": {
        "id": "UoWxsn1k6E76"
      },
      "source": [
        "LpUrban1=cos(f1,loc3,tower,user,q)\r\n",
        "LpUrban2=cos(f2,loc3,tower,user,w)\r\n",
        "LpUrban3=cos(f3,loc3,tower,user,e)\r\n"
      ],
      "execution_count": 23,
      "outputs": []
    },
    {
      "cell_type": "code",
      "metadata": {
        "id": "bweETeA96Imo"
      },
      "source": [
        "q_sort=q[np.argsort(q)]\r\n",
        "Urban_sort1=LpUrban1[np.argsort(q)]"
      ],
      "execution_count": 24,
      "outputs": []
    },
    {
      "cell_type": "code",
      "metadata": {
        "id": "UcWogAN_6LsZ"
      },
      "source": [
        "w_sort=w[np.argsort(w)]\r\n",
        "Urban_sort2=LpUrban2[np.argsort(w)]"
      ],
      "execution_count": 25,
      "outputs": []
    },
    {
      "cell_type": "code",
      "metadata": {
        "id": "CJDlDeXJ6P5d"
      },
      "source": [
        "e_sort=e[np.argsort(e)]\r\n",
        "Urban_sort3=LpUrban3[np.argsort(e)]"
      ],
      "execution_count": 27,
      "outputs": []
    },
    {
      "cell_type": "code",
      "metadata": {
        "colab": {
          "base_uri": "https://localhost:8080/",
          "height": 279
        },
        "id": "_wIdXw9d6xin",
        "outputId": "c9dbac1b-42d1-466e-9baf-956bc1dca543"
      },
      "source": [
        "plt.figure()\r\n",
        "plt.plot(q_sort,Urban_sort1, 'r', label='700 Mhz' )\r\n",
        "plt.plot(w_sort,Urban_sort2, 'b', label='900 Mhz')\r\n",
        "plt.plot(e_sort,Urban_sort3, 'c', label='1800 Mhz')\r\n",
        "plt.legend()\r\n",
        "plt.xlabel('Jarak (m)')\r\n",
        "plt.ylabel('Path Loss (dB)')\r\n",
        "plt.show()"
      ],
      "execution_count": 29,
      "outputs": [
        {
          "output_type": "display_data",
          "data": {
            "image/png": "[encoded data removed]",
            "text/plain": [
              "<Figure size 432x288 with 1 Axes>"
            ]
          },
          "metadata": {
            "tags": [],
            "needs_background": "light"
          }
        }
      ]
    }
  ]
}